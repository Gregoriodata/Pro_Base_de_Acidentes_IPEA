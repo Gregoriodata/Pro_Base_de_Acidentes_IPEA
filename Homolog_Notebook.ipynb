{
 "cells": [
  {
   "cell_type": "markdown",
   "metadata": {},
   "source": [
    "# Primeiro"
   ]
  },
  {
   "cell_type": "code",
   "execution_count": 8,
   "metadata": {},
   "outputs": [],
   "source": [
    "import requests as rq # modulo python para requisição de API\n",
    "import json as js\n",
    "import pandas as pd\n",
    "import csv\n",
    "import Base_api_IBGE_estados_mesorregioes as BaIBGE"
   ]
  },
  {
   "cell_type": "code",
   "execution_count": 9,
   "metadata": {},
   "outputs": [],
   "source": [
    "def chamada_Url(url):\n",
    "     url_Valor = (url)\n",
    "     req = rq.request(\"GET\",url_Valor)\n",
    "     ret_req = js.loads(req.text)\n",
    "     df = pd.DataFrame(ret_req)\n",
    "     return chamada_Url"
   ]
  },
  {
   "cell_type": "code",
   "execution_count": 10,
   "metadata": {},
   "outputs": [
    {
     "data": {
      "text/plain": [
       "<function __main__.chamada_Url(url)>"
      ]
     },
     "execution_count": 10,
     "metadata": {},
     "output_type": "execute_result"
    }
   ],
   "source": [
    "chamada_Url('https://servicodados.ibge.gov.br/api/v1/localidades/estados/?/mesorregioes')"
   ]
  },
  {
   "cell_type": "code",
   "execution_count": 11,
   "metadata": {},
   "outputs": [
    {
     "name": "stdout",
     "output_type": "stream",
     "text": [
      "<function chamada_Url at 0x000001D84B4F3F40>\n"
     ]
    }
   ],
   "source": [
    "df_dim_localidade = chamada_Url\n",
    "print(df_dim_localidade)"
   ]
  },
  {
   "cell_type": "code",
   "execution_count": null,
   "metadata": {},
   "outputs": [],
   "source": []
  }
 ],
 "metadata": {
  "kernelspec": {
   "display_name": "Python 3",
   "language": "python",
   "name": "python3"
  },
  "language_info": {
   "codemirror_mode": {
    "name": "ipython",
    "version": 3
   },
   "file_extension": ".py",
   "mimetype": "text/x-python",
   "name": "python",
   "nbconvert_exporter": "python",
   "pygments_lexer": "ipython3",
   "version": "3.10.7"
  }
 },
 "nbformat": 4,
 "nbformat_minor": 2
}
